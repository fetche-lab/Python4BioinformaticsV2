{
 "cells": [
  {
   "cell_type": "code",
   "execution_count": 3,
   "id": "e6a3ca3f-47bb-4874-adbc-0770dde25910",
   "metadata": {},
   "outputs": [],
   "source": [
    "x=0\n",
    "def variables(x):\n",
    "    while x<=5:\n",
    "        print(x)\n",
    "        x+=1"
   ]
  },
  {
   "cell_type": "code",
   "execution_count": 4,
   "id": "19252576-f098-4699-9def-1039892a8b13",
   "metadata": {},
   "outputs": [
    {
     "name": "stdout",
     "output_type": "stream",
     "text": [
      "0\n",
      "1\n",
      "2\n",
      "3\n",
      "4\n",
      "5\n"
     ]
    }
   ],
   "source": [
    "variables(x)"
   ]
  },
  {
   "cell_type": "code",
   "execution_count": 5,
   "id": "8ab6dfcf-4887-4922-9ca6-ad3bfb7bf910",
   "metadata": {},
   "outputs": [],
   "source": [
    "x=0\n",
    "def variables1(x):\n",
    "    while x<=10:\n",
    "        if x==5:\n",
    "            x+=1\n",
    "            continue\n",
    "        print(x)\n",
    "        x+=1\n"
   ]
  },
  {
   "cell_type": "code",
   "execution_count": 6,
   "id": "f1e40b89-8dc5-4345-9a2d-317218e595b5",
   "metadata": {},
   "outputs": [
    {
     "name": "stdout",
     "output_type": "stream",
     "text": [
      "0\n",
      "1\n",
      "2\n",
      "3\n",
      "4\n",
      "6\n",
      "7\n",
      "8\n",
      "9\n",
      "10\n"
     ]
    }
   ],
   "source": [
    "variables1(x)"
   ]
  },
  {
   "cell_type": "code",
   "execution_count": 14,
   "id": "e60d1eee-a113-4e7e-8038-dfc8a3eccbae",
   "metadata": {},
   "outputs": [],
   "source": [
    "##FUNCTION 03\n",
    "def variables2(a,b):\n",
    "    for factor in range(a,b):\n",
    "         print(factor)"
   ]
  },
  {
   "cell_type": "code",
   "execution_count": 15,
   "id": "3cc84e8e-ffb0-4388-b4bb-6969d8163af3",
   "metadata": {},
   "outputs": [
    {
     "name": "stdout",
     "output_type": "stream",
     "text": [
      "4\n",
      "5\n",
      "6\n",
      "7\n",
      "8\n",
      "9\n",
      "10\n"
     ]
    }
   ],
   "source": [
    "variables2(4,11)"
   ]
  },
  {
   "cell_type": "code",
   "execution_count": null,
   "id": "ba704c5d-13e5-47f3-bfab-f836943adaef",
   "metadata": {},
   "outputs": [],
   "source": []
  }
 ],
 "metadata": {
  "kernelspec": {
   "display_name": "Python 3 (ipykernel)",
   "language": "python",
   "name": "python3"
  },
  "language_info": {
   "codemirror_mode": {
    "name": "ipython",
    "version": 3
   },
   "file_extension": ".py",
   "mimetype": "text/x-python",
   "name": "python",
   "nbconvert_exporter": "python",
   "pygments_lexer": "ipython3",
   "version": "3.9.7"
  }
 },
 "nbformat": 4,
 "nbformat_minor": 5
}
