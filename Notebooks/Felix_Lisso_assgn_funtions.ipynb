{
 "cells": [
  {
   "cell_type": "markdown",
   "id": "bf614b06-e4c4-4cb2-bccd-932dfe6b6d20",
   "metadata": {},
   "source": [
    "##### NOTEBOOK ASSIGNMENT ON FUNCTIONS."
   ]
  },
  {
   "cell_type": "markdown",
   "id": "5a332457-490c-4b49-93e3-1ba9fa7ced18",
   "metadata": {},
   "source": [
    "``` Exercise 01 notebook 02 ```"
   ]
  },
  {
   "cell_type": "code",
   "execution_count": null,
   "id": "7d219d7f-4410-4710-8757-265ffd2574b4",
   "metadata": {},
   "outputs": [],
   "source": [
    "#function 1\n",
    "trna='AAGGGCTTAGCTTAATTAAAGTGGCTGATTTGCGTTCAGTTGATGCAGAGTGGGGTTTTGCAGTCCTTA'\n",
    "#BA='AAAAATCCCGAGGCGGCTATATAGGGCTCCGGAGGCGTAATATAAAA'\n",
    "def percent_Base_content(dna):\n",
    "    length=len(dna)\n",
    "    A_count=dna.count('A')\n",
    "    C_count=dna.count('C')\n",
    "    G_count=dna.count('G') \n",
    "    T_count=dna.count('T')\n",
    "    GC_content = G_count + C_count\n",
    "    AT_content = A_count + T_count\n",
    "    GC_percent = (GC_content/length)*100 \n",
    "    AT_percent = (AT_content/length)*100\n",
    "    #return print('AT and GC percent values:%s%s %s%s'% (AT_percent,'%',GC_percent,'%'))\n",
    "    #return print('AT and GC percent values:%.3f%s %.3f%s'% (AT_percent,'%',GC_percent,'%'))\n",
    "    return print(' AT percent value:%.3f%s%s'% (AT_percent,'%','\\n'),'GC percent value:%.3f%s'% (GC_percent,'%'))\n",
    "percent_Base_content"
   ]
  }
 ],
 "metadata": {
  "kernelspec": {
   "display_name": "Python 3 (ipykernel)",
   "language": "python",
   "name": "python3"
  },
  "language_info": {
   "codemirror_mode": {
    "name": "ipython",
    "version": 3
   },
   "file_extension": ".py",
   "mimetype": "text/x-python",
   "name": "python",
   "nbconvert_exporter": "python",
   "pygments_lexer": "ipython3",
   "version": "3.9.7"
  }
 },
 "nbformat": 4,
 "nbformat_minor": 5
}
